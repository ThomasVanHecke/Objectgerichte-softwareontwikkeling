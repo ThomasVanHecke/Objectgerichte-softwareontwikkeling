{
  "cells": [
    {
      "cell_type": "markdown",
      "metadata": {
        "id": "view-in-github",
        "colab_type": "text"
      },
      "source": [
        "<a href=\"https://colab.research.google.com/github/ThomasVanHecke/Objectgerichte-softwareontwikkeling/blob/main/chapter1/chapter1.ipynb\" target=\"_parent\"><img src=\"https://colab.research.google.com/assets/colab-badge.svg\" alt=\"Open In Colab\"/></a>"
      ]
    },
    {
      "cell_type": "markdown",
      "metadata": {
        "id": "TP4_XEhBZTdp"
      },
      "source": [
        "# Chapter 1: Introduction to python\n",
        "\n",
        "In order to acces extra functionalities from external libraries, you need to iport them. These imports should be done at the start of the file to get a good overview of which packages are imported. Run the code below to import the packages:"
      ]
    },
    {
      "cell_type": "code",
      "execution_count": null,
      "metadata": {
        "id": "IVzhCjr1ZTdw"
      },
      "outputs": [],
      "source": [
        "# We use the 'as' keyword to rename the imports to shorter words so we have to write less in the code.\n",
        "import matplotlib.pyplot as plt\n",
        "import numpy as np\n",
        "import plotly.express as px\n",
        "import math"
      ]
    },
    {
      "cell_type": "markdown",
      "metadata": {
        "id": "iShUPRR1ZTdz"
      },
      "source": [
        "## 1.3 Working with vectors and matrices"
      ]
    },
    {
      "cell_type": "markdown",
      "metadata": {
        "id": "QUfURMK-ZTd0"
      },
      "source": [
        "### 1.3.1 Scalars and vectors"
      ]
    },
    {
      "cell_type": "code",
      "execution_count": null,
      "metadata": {
        "colab": {
          "base_uri": "https://localhost:8080/"
        },
        "id": "Ro-pplnKZTd0",
        "outputId": "4f6cd7fd-013b-468a-905d-4ad0850a1e73"
      },
      "outputs": [
        {
          "output_type": "stream",
          "name": "stdout",
          "text": [
            "de lengte van array y is: 10\n",
            "De som van array x is:55\n",
            "min van de sin: -0.9589242746631385\n",
            "de som van element 4 tot en met 10 van array  y is : 93\n",
            "antwoord som1: 3810\n",
            "antwoord som2: 5565\n",
            "antwoord som3: 7220\n",
            "-7.779483253273023e-02\n"
          ]
        }
      ],
      "source": [
        "# Create a new variable x\n",
        "x= np.array([10,9 ,8 ,7 ,6, 5 ,4, 3, 2, 1])\n",
        "\n",
        "# Add 12 to a new array y\n",
        "y=np.array([22, 21, 20, 19, 18, 17, 16 ,15, 14, 13])\n",
        "\n",
        "# determine the length of the vector\n",
        "lengte = len(y)\n",
        "print(\"de lengte van array y is: \" + str(lengte))\n",
        "\n",
        "# sum of the elements\n",
        "som= sum(x)\n",
        "print(\"De som van array x is:\" + str(som))\n",
        "\n",
        "# the min of the sin of the elements\n",
        "sinus_x= np.sin(x)  #berekend de sinus van elk element\n",
        "minimum_sinus= np.min(sinus_x)\n",
        "print(\"min van de sin: \" + str(minimum_sinus))\n",
        "\n",
        "# The sum of elements 4 to 10\n",
        "som4tot10 = np.sum(y[4:10])\n",
        "print(\"de som van element 4 tot en met 10 van array  y is : \" + str(som4tot10))\n",
        "\n",
        "# make vector z\n",
        "z= np.arange(200 , 0 , -1) #np.arange( start, stop, step)\n",
        "\n",
        "# Cummulative sums of z\n",
        "som1 = np.sum(z[0:20])\n",
        "print(\"antwoord som1: \" + str(som1))\n",
        "som2 = np.sum(z[0:30])\n",
        "print(\"antwoord som2: \" + str(som2) )\n",
        "som3 = np.sum(z[0:40])\n",
        "print(\"antwoord som3: \" + str(som3))\n",
        "\n",
        "# Calculate the formula\n",
        "\n",
        "\n",
        "# Bereken de term tussen haakjes\n",
        "term = (1/12) - (1/(5 * 25)) - (1/(28 * 27)) - (1/(72 * 29))\n",
        "\n",
        "# Vermenigvuldig met 24\n",
        "term = 24 * term\n",
        "\n",
        "# Bereken 3 * sqrt(3) / 4\n",
        "term1 = (3 * np.sqrt(3)) / 4\n",
        "\n",
        "# Tel de termen op en trek pi af\n",
        "a = term1 + term - np.pi\n",
        "\n",
        "# Print het resultaat met 15 beduidende cijfers\n",
        "print(f\"{a:.15e}\")"
      ]
    },
    {
      "cell_type": "markdown",
      "metadata": {
        "id": "5RAtYqDlZTd1"
      },
      "source": [
        "### 1.3.2 Matrices"
      ]
    },
    {
      "cell_type": "markdown",
      "metadata": {
        "id": "K07PHwleZTd2"
      },
      "source": [
        "#### Question 1: Random Matrix"
      ]
    },
    {
      "cell_type": "code",
      "execution_count": null,
      "metadata": {
        "colab": {
          "base_uri": "https://localhost:8080/"
        },
        "id": "PT4ld97RZTd2",
        "outputId": "2010857f-8654-4803-8800-d0809cf3193c"
      },
      "outputs": [
        {
          "output_type": "stream",
          "name": "stdout",
          "text": [
            "[[0.95403452 0.63390012 0.67402689 0.11595166 0.97492451]\n",
            " [0.49167274 0.16488352 0.35984658 0.41779154 0.34832956]\n",
            " [0.19137227 0.19054308 0.33281282 0.87025042 0.45372961]\n",
            " [0.340882   0.78653377 0.97828916 0.08806582 0.34591291]]\n",
            "[0.67402689 0.35984658 0.33281282 0.97828916]\n",
            "[0.340882   0.78653377 0.97828916 0.08806582 0.34591291]\n"
          ]
        }
      ],
      "source": [
        "# Make matrix A\n",
        "A= np.random.random((4,5)) #matrix met 4 rijen en 5 kolommen, willekeurige waarde tss 0 en 1\n",
        "x= A[:,2] #vector x met middelste kolom dus index 2\n",
        "y= A[3,:] #vector met laatste rij dus index 3\n",
        "\n",
        "print(A)\n",
        "print(x)\n",
        "print(y)\n",
        "# Make matrix B\n",
        "B= np.random.random((1000 , 2))"
      ]
    },
    {
      "cell_type": "markdown",
      "metadata": {
        "id": "ZtmrRYeVZTd3"
      },
      "source": [
        "#### Question 2: Rotation Matrix"
      ]
    },
    {
      "cell_type": "code",
      "execution_count": null,
      "metadata": {
        "colab": {
          "base_uri": "https://localhost:8080/"
        },
        "id": "ZkMSDEQOZTd3",
        "outputId": "03db373d-9284-46f7-97d2-c0a5b225d414"
      },
      "outputs": [
        {
          "output_type": "stream",
          "name": "stdout",
          "text": [
            "[[ 0.984808 -0.173648]\n",
            " [ 0.173648  0.984808]]\n",
            "[[ 0.707107 -0.707107]\n",
            " [ 0.707107  0.707107]]\n",
            "[[ 0.5      -0.866025]\n",
            " [ 0.866025  0.5     ]]\n",
            "\n",
            "Voor θ = 10°:\n",
            "Rotatiematrix R(10°):\n",
            "[[ 0.984808 -0.173648]\n",
            " [ 0.173648  0.984808]]\n",
            "Geroteerd punt m_rot = R(10°) * m: [0.811160, 1.158456]^T\n",
            "Determinant van R(10°): 1.000000\n",
            "Inverse van R(10°):\n",
            "[[ 0.984808  0.173648]\n",
            " [-0.173648  0.984808]]\n",
            "\n",
            "Voor θ = 45°:\n",
            "Rotatiematrix R(45°):\n",
            "[[ 0.707107 -0.707107]\n",
            " [ 0.707107  0.707107]]\n",
            "Geroteerd punt m_rot = R(45°) * m: [0.000000, 1.414214]^T\n",
            "Determinant van R(45°): 1.000000\n",
            "Inverse van R(45°):\n",
            "[[ 0.707107  0.707107]\n",
            " [-0.707107  0.707107]]\n",
            "\n",
            "Voor θ = 60°:\n",
            "Rotatiematrix R(60°):\n",
            "[[ 0.5      -0.866025]\n",
            " [ 0.866025  0.5     ]]\n",
            "Geroteerd punt m_rot = R(60°) * m: [-0.366025, 1.366025]^T\n",
            "Determinant van R(60°): 1.000000\n",
            "Inverse van R(60°):\n",
            "[[ 0.5       0.866025]\n",
            " [-0.866025  0.5     ]]\n"
          ]
        }
      ],
      "source": [
        "# 10° matrix\n",
        "theta_degre= 10\n",
        "theta_rad= np.radians(theta_degre) #converteer naar radialen\n",
        "R = np.array([\n",
        "    [np.cos(theta_rad), -np.sin(theta_rad)],\n",
        "    [np.sin(theta_rad), np.cos(theta_rad)]\n",
        "])\n",
        "print(R.round(6))\n",
        "\n",
        "# 45° matrix\n",
        "theta_degre1= 45\n",
        "theta_rad1= np.radians(theta_degre1) #converteer naar radialen\n",
        "R1 = np.array([\n",
        "    [np.cos(theta_rad1), -np.sin(theta_rad1)],\n",
        "    [np.sin(theta_rad1), np.cos(theta_rad1)]\n",
        "])\n",
        "print(R1.round(6))\n",
        "\n",
        "# 60° matrix\n",
        "theta_degre2= 60\n",
        "theta_rad2= np.radians(theta_degre2) #converteer naar radialen\n",
        "R2 = np.array([\n",
        "    [np.cos(theta_rad2), -np.sin(theta_rad2)],\n",
        "    [np.sin(theta_rad2), np.cos(theta_rad2)]\n",
        "])\n",
        "print(R2.round(6))\n",
        "\n",
        "# Rotate point\n",
        "\n",
        "# Definieer de hoeken in graden\n",
        "theta_deg = [10, 45, 60]\n",
        "\n",
        "# Puntsvector m\n",
        "m = np.array([1, 1])\n",
        "\n",
        "# Functie om rotatiematrix te berekenen\n",
        "def rotation_matrix(theta_deg):\n",
        "    theta_rad = np.radians(theta_deg)\n",
        "    return np.array([\n",
        "        [np.cos(theta_rad), -np.sin(theta_rad)],\n",
        "        [np.sin(theta_rad), np.cos(theta_rad)]\n",
        "    ])\n",
        "\n",
        "# Berekeningen voor elke hoek\n",
        "for theta in theta_deg:\n",
        "    # Rotatiematrix\n",
        "    R = rotation_matrix(theta)\n",
        "\n",
        "    # Geroteerd punt\n",
        "    m_rot = R @ m\n",
        "\n",
        "    # Determinant\n",
        "    det = np.linalg.det(R)\n",
        "\n",
        "    # Inverse\n",
        "    R_inv = np.linalg.inv(R)\n",
        "\n",
        "    # Print resultaten\n",
        "    print(f\"\\nVoor θ = {theta}°:\")\n",
        "    print(f\"Rotatiematrix R({theta}°):\")\n",
        "    print(R.round(6))\n",
        "    print(f\"Geroteerd punt m_rot = R({theta}°) * m: [{m_rot[0]:.6f}, {m_rot[1]:.6f}]^T\")\n",
        "    print(f\"Determinant van R({theta}°): {det:.6f}\")\n",
        "    print(f\"Inverse van R({theta}°):\")\n",
        "    print(R_inv.round(6))\n",
        "\n",
        "\n",
        "# Determinant\n",
        "\n",
        "\n",
        "# Inverse\n",
        "\n"
      ]
    },
    {
      "cell_type": "markdown",
      "metadata": {
        "id": "tt_Vl4mLZTd4"
      },
      "source": [
        "#### Question 3: Systems"
      ]
    },
    {
      "cell_type": "code",
      "execution_count": null,
      "metadata": {
        "colab": {
          "base_uri": "https://localhost:8080/"
        },
        "id": "BJnZnYP6ZTd4",
        "outputId": "92aaf674-84a8-4c19-9642-07c23c4cc19b"
      },
      "outputs": [
        {
          "output_type": "stream",
          "name": "stdout",
          "text": [
            "An bezit: AC1800.00\n",
            "Ben bezit: AC600.00\n",
            "Carlos bezit: AC3800.00\n"
          ]
        }
      ],
      "source": [
        "\n",
        "import numpy as np\n",
        "\n",
        "# Definieer de matrix A en vector b\n",
        "A = np.array([[1, -3, 0],\n",
        "              [-1, -1, 2],\n",
        "              [5, 2, -1]])\n",
        "\n",
        "b = np.array([0, 5200, 6400])\n",
        "\n",
        "# Los het stelsel op met np.linalg.solve\n",
        "x = np.linalg.solve(A, b)\n",
        "\n",
        "# Print de resultaten\n",
        "print(f\"An bezit: AC{x[0]:.2f}\")\n",
        "print(f\"Ben bezit: AC{x[1]:.2f}\")\n",
        "print(f\"Carlos bezit: AC{x[2]:.2f}\")"
      ]
    },
    {
      "cell_type": "markdown",
      "metadata": {
        "id": "PN27ToyXZTd5"
      },
      "source": [
        "## 1.4 Functions"
      ]
    },
    {
      "cell_type": "markdown",
      "metadata": {
        "id": "iG7i4D1SZTd5"
      },
      "source": [
        "### 1.4.1 Question 1: Some Simple Functions"
      ]
    },
    {
      "cell_type": "code",
      "execution_count": null,
      "metadata": {
        "id": "pCd9YpCjZTd5"
      },
      "outputs": [],
      "source": [
        "# Function celcius_to_farenheit\n",
        "def celcius_to_farenheit(celcius):\n",
        "\n",
        "    # Add your conversion code here\n",
        "    farenheit = (celcius * 9/5)+ 32\n",
        "\n",
        "\n",
        "    return farenheit # the farenheit value"
      ]
    },
    {
      "cell_type": "code",
      "execution_count": null,
      "metadata": {
        "colab": {
          "base_uri": "https://localhost:8080/"
        },
        "id": "jbiGczWFZTd6",
        "outputId": "14be56d1-87db-4115-b540-4ce6aae4fbd1"
      },
      "outputs": [
        {
          "output_type": "stream",
          "name": "stdout",
          "text": [
            "32.0\n",
            "68.0\n",
            "98.6\n",
            "212.0\n"
          ]
        }
      ],
      "source": [
        "# Check the results\n",
        "print(celcius_to_farenheit(0))\n",
        "print(celcius_to_farenheit(20))\n",
        "print(celcius_to_farenheit(37))\n",
        "print(celcius_to_farenheit(100))"
      ]
    },
    {
      "cell_type": "code",
      "execution_count": null,
      "metadata": {
        "id": "6qYntcKuZTd6"
      },
      "outputs": [],
      "source": [
        "# Absolute function\n",
        "def absolute_function(getal):\n",
        "  absolute_waarde= abs(getal)\n",
        "\n",
        "  return absolute_waarde\n"
      ]
    },
    {
      "cell_type": "code",
      "execution_count": null,
      "metadata": {
        "colab": {
          "base_uri": "https://localhost:8080/"
        },
        "id": "rBj2VvqgZTd6",
        "outputId": "e4239a69-1048-4314-f01b-02b68b556b01"
      },
      "outputs": [
        {
          "output_type": "stream",
          "name": "stdout",
          "text": [
            "10\n",
            "0\n",
            "3.141592653589793\n"
          ]
        }
      ],
      "source": [
        "# Validate the results\n",
        "print(absolute_function(-10))\n",
        "print(absolute_function(0))\n",
        "print(absolute_function(np.pi))\n"
      ]
    },
    {
      "cell_type": "code",
      "execution_count": null,
      "metadata": {
        "id": "TAjSnDxcZTd6"
      },
      "outputs": [],
      "source": [
        "# Swap function\n",
        "def swap_function(getal1, getal2):\n",
        "  getal1, getal2 = getal2, getal1\n",
        "\n",
        "  return getal1, getal2"
      ]
    },
    {
      "cell_type": "code",
      "execution_count": null,
      "metadata": {
        "colab": {
          "base_uri": "https://localhost:8080/"
        },
        "id": "SEMGGojaZTd7",
        "outputId": "61c7ba4d-3d8f-4009-e2fd-64ff16e566e3"
      },
      "outputs": [
        {
          "output_type": "stream",
          "name": "stdout",
          "text": [
            "(20, 10)\n"
          ]
        }
      ],
      "source": [
        "# Validate the results\n",
        "print(swap_function(10,20))\n"
      ]
    },
    {
      "cell_type": "markdown",
      "metadata": {
        "id": "8yC-nJLAZTd7"
      },
      "source": [
        "### 1.4.2 Question 2: Distances and included angles of a triangle"
      ]
    },
    {
      "cell_type": "code",
      "execution_count": null,
      "metadata": {
        "id": "kN8KVhumZTd7"
      },
      "outputs": [],
      "source": [
        "# Solve triangle function\n",
        "\n",
        "def SolveTriangle(A, B, C):\n",
        "    # Bereken vectoren\n",
        "    AB = np.array(B) - np.array(A)\n",
        "    AC = np.array(C) - np.array(A)\n",
        "    BC = np.array(C) - np.array(B)\n",
        "\n",
        "    # Bereken lengtes van de zijden\n",
        "    lAB = np.linalg.norm(AB)\n",
        "    lAC = np.linalg.norm(AC)\n",
        "    lBC = np.linalg.norm(BC)\n",
        "\n",
        "    # Bereken hoeken met de wet van cosinussen\n",
        "    # α (hoek bij A)\n",
        "    cos_alpha = (lAC**2 + lAB**2 - lBC**2) / (2 * lAC * lAB)\n",
        "    alpha = np.degrees(np.arccos(np.clip(cos_alpha, -1.0, 1.0)))\n",
        "\n",
        "    # β (hoek bij B)\n",
        "    cos_beta = (lAB**2 + lBC**2 - lAC**2) / (2 * lAB * lBC)\n",
        "    beta = np.degrees(np.arccos(np.clip(cos_beta, -1.0, 1.0)))\n",
        "\n",
        "    # γ (hoek bij C)\n",
        "    cos_gamma = (lAC**2 + lBC**2 - lAB**2) / (2 * lAC * lBC)\n",
        "    gamma = np.degrees(np.arccos(np.clip(cos_gamma, -1.0, 1.0)))\n",
        "\n",
        "    # Retourneer resultaten\n",
        "    return {\n",
        "        'lAB': lAB,\n",
        "        'lAC': lAC,\n",
        "        'lBC': lBC,\n",
        "        'alpha': alpha,\n",
        "        'beta': beta,\n",
        "        'gamma': gamma\n",
        "    }\n",
        "\n"
      ]
    },
    {
      "cell_type": "code",
      "execution_count": null,
      "metadata": {
        "colab": {
          "base_uri": "https://localhost:8080/"
        },
        "id": "KRch296XZTd7",
        "outputId": "61b9fd79-5cc6-4cd7-fccd-e5045e4a615a"
      },
      "outputs": [
        {
          "output_type": "stream",
          "name": "stdout",
          "text": [
            "lAB = 8.016\n",
            "lAC = 2.500\n",
            "lBC = 6.083\n",
            "α = 33.294°\n",
            "β = 13.039°\n",
            "γ = 133.668°\n"
          ]
        }
      ],
      "source": [
        "# Validate the results\n",
        "# Voer de functie uit voor de gegeven driehoek\n",
        "A = (0, 0)\n",
        "B = (8, 0.5)\n",
        "C = (2, 1.5)\n",
        "\n",
        "result = SolveTriangle(A, B, C)\n",
        "\n",
        "# Print resultaten\n",
        "print(f\"lAB = {result['lAB']:.3f}\")\n",
        "print(f\"lAC = {result['lAC']:.3f}\")\n",
        "print(f\"lBC = {result['lBC']:.3f}\")\n",
        "print(f\"α = {result['alpha']:.3f}°\")\n",
        "print(f\"β = {result['beta']:.3f}°\")\n",
        "print(f\"γ = {result['gamma']:.3f}°\")"
      ]
    },
    {
      "cell_type": "markdown",
      "metadata": {
        "id": "gzHAaL-FZTd7"
      },
      "source": [
        "## 1.5 Control Structures"
      ]
    },
    {
      "cell_type": "markdown",
      "metadata": {
        "id": "OU1GfTDGZTd7"
      },
      "source": [
        "### 1.5.1 Question 1: Fibbonacci"
      ]
    },
    {
      "cell_type": "code",
      "execution_count": 3,
      "metadata": {
        "id": "uXQclu-EZTd7"
      },
      "outputs": [],
      "source": [
        "# Fibbonacci function\n",
        "def fibonacci(N):\n",
        "    # Controleer of N een geldige invoer is\n",
        "    if not isinstance(N, int) or N <= 0:\n",
        "        raise ValueError(\"N moet een positief geheel getal zijn\")\n",
        "\n",
        "    # Initialiseer de lijst\n",
        "    fib_sequence = [0] if N >= 1 else []\n",
        "    if N >= 2:\n",
        "        fib_sequence.append(1)\n",
        "\n",
        "    # Genereer de reeks iteratief\n",
        "    for i in range(2, N):\n",
        "        fib_sequence.append(fib_sequence[i-1] + fib_sequence[i-2])\n",
        "\n",
        "    return fib_sequence\n",
        "\n",
        "\n"
      ]
    },
    {
      "cell_type": "code",
      "execution_count": 5,
      "metadata": {
        "id": "ftbYMLEqZTd8",
        "outputId": "18eda31e-e7c3-40dc-f0a6-01db170cf78f",
        "colab": {
          "base_uri": "https://localhost:8080/"
        }
      },
      "outputs": [
        {
          "output_type": "stream",
          "name": "stdout",
          "text": [
            "Fibonacci-reeks voor N = 5: [0, 1, 1, 2, 3]\n",
            "Fibonacci-reeks voor N = 8: [0, 1, 1, 2, 3, 5, 8, 13]\n",
            "Fibonacci-reeks voor N = 1: [0]\n"
          ]
        }
      ],
      "source": [
        "# Validate the results\n",
        "for N in [5, 8, 1]:\n",
        "    result = fibonacci(N)\n",
        "    print(f\"Fibonacci-reeks voor N = {N}: {result}\")"
      ]
    },
    {
      "cell_type": "markdown",
      "metadata": {
        "id": "rCAeHNrkZTd8"
      },
      "source": [
        "### 1.5.2 Question 2: Did I pass?"
      ]
    },
    {
      "cell_type": "code",
      "execution_count": 14,
      "metadata": {
        "id": "YBfBs6j4ZTd8"
      },
      "outputs": [],
      "source": [
        "# Passed function\n",
        "def BenIkGeslaagd(score1 , score2, score3 ):\n",
        "  totaal = 0\n",
        "  aantal= 0\n",
        "\n",
        "  if score1 >= 10:\n",
        "    totaal += score1\n",
        "    aantal += 1\n",
        "  elif score1 < 10:\n",
        "    totaal += 2* score1\n",
        "    aantal += 2\n",
        "\n",
        "  if score2 >= 10:\n",
        "    totaal += score2\n",
        "    aantal += 1\n",
        "  elif score2 < 10:\n",
        "    totaal += 2* score2\n",
        "    aantal += 2\n",
        "\n",
        "  if score3 >= 10:\n",
        "    totaal += score3\n",
        "    aantal += 1\n",
        "  elif score3 < 10:\n",
        "    totaal += 2* score3\n",
        "    aantal += 2\n",
        "\n",
        "  gem_score= totaal/ aantal\n",
        "  if gem_score >= 11.6:\n",
        "    print (\"geslaagd, want de score is: \" + str(gem_score))\n",
        "\n",
        "  else:\n",
        "    print(\"niet geslaagd, want de score is: \" + str(gem_score) )\n"
      ]
    },
    {
      "cell_type": "code",
      "execution_count": 16,
      "metadata": {
        "id": "t4a_Eul8ZTd8",
        "outputId": "fec22b6b-26e3-418e-edfd-57912d54a0c2",
        "colab": {
          "base_uri": "https://localhost:8080/"
        }
      },
      "outputs": [
        {
          "output_type": "stream",
          "name": "stdout",
          "text": [
            "niet geslaagd, want de score is: 10.0\n"
          ]
        }
      ],
      "source": [
        "# Validate the results\n",
        "BenIkGeslaagd(8,14,10)"
      ]
    },
    {
      "cell_type": "markdown",
      "metadata": {
        "id": "wC4fCqNJZTd9"
      },
      "source": [
        "## 1.6 Plot"
      ]
    },
    {
      "cell_type": "markdown",
      "metadata": {
        "id": "N8k82IxZZTd9"
      },
      "source": [
        "2D-plots worden meestal gemaakt door x- en y-coördinaten op te geven.\n",
        "Matplotlib verbindt de ingevoerde punten met lijnen om continue curve te simuleren.\n",
        "\n",
        "Een reeks x-waarden worden meestal gegenereed mbv np.linspace functie (zie api)\n",
        "\n",
        "Bijhorende array van y-waarden wordt dan berekend met de x-waarden als input\n",
        "\n",
        "Zie het voorbeeld hieronder:"
      ]
    },
    {
      "cell_type": "code",
      "execution_count": 17,
      "metadata": {
        "id": "jqnr_iZRZTd9",
        "outputId": "332fd2a2-cc8e-4213-e090-9e98e5520b1d",
        "colab": {
          "base_uri": "https://localhost:8080/",
          "height": 452
        }
      },
      "outputs": [
        {
          "output_type": "display_data",
          "data": {
            "text/plain": [
              "<Figure size 640x480 with 1 Axes>"
            ],
            "image/png": "[encoded data removed]"
          },
          "metadata": {}
        }
      ],
      "source": [
        "import matplotlib.pyplot as plt\n",
        "import numpy as np\n",
        "\n",
        "# np.linspace maakt een array van 200 waarden evenredig verdeeld tussen [0,2*pi]\n",
        "x = np.linspace(0, 2 * np.pi, 200)\n",
        "# y is hier ook een array van 200 getallen (nl. de sinus van x)\n",
        "y = np.sin(x)\n",
        "\n",
        "#basis plot syntax; bekijk de api documentatie voor de functie subplots en de return values\n",
        "fig, ax = plt.subplots()\n",
        "ax.plot(x, y)\n",
        "\n",
        "#laatste output wordt hieronder weergegeven\n",
        "plt.ylabel('Scores')\n",
        "plt.title('sinus')\n",
        "plt.show()"
      ]
    },
    {
      "cell_type": "markdown",
      "metadata": {
        "id": "SA4ZVjJTZTd9"
      },
      "source": [
        "### 1.7.3 Opgave 1: Amerikaanse bevolking\n",
        "\n",
        "Het Amerikaanse bevolkingscijfer kan gemodelleerd worden in de tijd a.d.h.v. een bepaalde functie.\n",
        "Enkele stappen:\n",
        "\n",
        "    - bepaal je x-waarden (van 1790 tem 2025)\n",
        "    - bepaal de bijhorende y-waarden (tip definieer de functie zoals gegeven in de opdracht en gebruik deze in je code)\n",
        "    - plot deze functie\n",
        "\n",
        "    - vervolgens voeg je de extra gevraagde zaken toe. functie hit (axes = return value van plt.subplots()):\n",
        "        - axes.set_xlabel\n",
        "        - axes.axvline\n",
        "        - axes.set_xticks\n",
        "        - 'markevery' optional argument bij de functie ax.plot"
      ]
    },
    {
      "cell_type": "code",
      "execution_count": null,
      "metadata": {
        "id": "dU9HSjDBZTd-"
      },
      "outputs": [],
      "source": [
        "def predict_population(year):\n",
        "    return #functie"
      ]
    },
    {
      "cell_type": "code",
      "execution_count": 18,
      "metadata": {
        "id": "h4DcVBlOZTd-",
        "outputId": "d23e7126-3c2a-4296-961a-ac4e1df4bf97",
        "colab": {
          "base_uri": "https://localhost:8080/",
          "height": 581
        }
      },
      "outputs": [
        {
          "output_type": "display_data",
          "data": {
            "text/plain": [
              "<Figure size 1000x600 with 1 Axes>"
            ],
            "image/png": "[encoded data removed]"
          },
          "metadata": {}
        },
        {
          "output_type": "stream",
          "name": "stdout",
          "text": [
            "De voorspelde bevolkingswaarde voor 2025 is: 191477986\n"
          ]
        }
      ],
      "source": [
        "\n",
        "\n",
        "# Definieer de functie P(t)\n",
        "def P(t):\n",
        "    return 197273000 / (1 + np.exp(-0.0313 * (t - 1913.25)))\n",
        "\n",
        "# Maak een array van jaren van 1790 tot 2025\n",
        "t = np.arange(1790, 2026, 1)  # Inclusief 2025, stap van 1 jaar\n",
        "\n",
        "# Bereken de populatie voor elke jaar\n",
        "population = P(t)\n",
        "\n",
        "# Plot de functie\n",
        "plt.figure(figsize=(10, 6))\n",
        "plt.plot(t, population, label='Bevolking', color='blue')\n",
        "\n",
        "# Markeer het begin van elk decennium (1790, 1800, 1810, ...)\n",
        "for year in range(1790, 2026, 10):\n",
        "    plt.axvline(x=year, color='gray', linestyle='--', alpha=0.5)\n",
        "\n",
        "# Voeg titel en labels toe\n",
        "plt.title('Amerikaanse Bevolking (1790-2025)')\n",
        "plt.xlabel('Jaar')\n",
        "plt.ylabel('Bevolking')\n",
        "\n",
        "# Voeg legenda toe\n",
        "plt.legend()\n",
        "\n",
        "# Voeg een grid toe voor duidelijkheid (optioneel)\n",
        "plt.grid(True, linestyle='--', alpha=0.7)\n",
        "\n",
        "# Toon de plot\n",
        "plt.show()\n",
        "\n",
        "# Bereken de voorspelde waarde voor een specifiek jaar (bijv. 2025)\n",
        "year_to_predict = 2025\n",
        "predicted_value = P(year_to_predict)\n",
        "print(f\"De voorspelde bevolkingswaarde voor {year_to_predict} is: {predicted_value:.0f}\")"
      ]
    },
    {
      "cell_type": "markdown",
      "metadata": {
        "id": "pHipJnutZTd-"
      },
      "source": [
        "### 1.7.2 Opgave 2 : Combineer gegevens\n",
        "\n",
        "Matplotlab laat ook toe om figuren naast en onder elkaar te schikken om zo tot een mooie layout\n",
        "te komen. Bekijk de functie subplot voor meer informatie. In deze oefening maak je gebruik van\n",
        "deze functionaliteit en zal je verschillende grafiektypes gebruiken."
      ]
    },
    {
      "cell_type": "code",
      "execution_count": null,
      "metadata": {
        "id": "grIxq79mZTd-"
      },
      "outputs": [],
      "source": [
        "#uitlezen data\n",
        "fcdata = np.genfromtxt(\"faalkosten_FCdata.txt\",delimiter = ',')\n",
        "fcmateriaal = np.genfromtxt(\"faalkosten_materiaal.txt\",delimiter = ',')/1000\n",
        "fcplaatsing = np.genfromtxt(\"faalkosten_plaatsing.txt\",delimiter = ',')/1000\n",
        "fctechnieken = np.genfromtxt(\"faalkosten_technieken.txt\",delimiter = ',')/1000\n",
        "\n",
        "fig1=plt.figure()\n",
        "\n",
        "\n"
      ]
    },
    {
      "cell_type": "markdown",
      "metadata": {
        "id": "uIr3KbLOZTd-"
      },
      "source": [
        "### 1.7.3 Opgave 3 : Plotten in 3D\n",
        "In Geomaticatoepassingen kom je regelmatig in contact met 3D data. Een typisch voorbeeld\n",
        "daarvan is een digitale hoogtekaart of -model (DEM) dat bijvoorbeeld aangemaakt wordt met\n",
        "behulp van luchtlaserscanning. Matlab beschikt ook hier over interessante functionaliteit om\n",
        "deze data te behandelen en te visualiseren\n",
        "\n",
        "Tips contour plot:\n",
        "    - axes.contour()\n",
        "    - axes.clabel()\n",
        "    - fig.colorbar()"
      ]
    },
    {
      "cell_type": "code",
      "execution_count": null,
      "metadata": {
        "id": "2ZdSvS23ZTeZ"
      },
      "outputs": [],
      "source": [
        "#3D Surface plot\n"
      ]
    },
    {
      "cell_type": "code",
      "execution_count": null,
      "metadata": {
        "id": "NINtdZtEZTeZ"
      },
      "outputs": [],
      "source": [
        "# Coloured DEM Plot\n"
      ]
    },
    {
      "cell_type": "code",
      "execution_count": null,
      "metadata": {
        "id": "daE6zEU_ZTeZ"
      },
      "outputs": [],
      "source": [
        "#100m Contour Line\n"
      ]
    },
    {
      "cell_type": "code",
      "execution_count": null,
      "metadata": {
        "id": "mvTsZM5WZTeZ"
      },
      "outputs": [],
      "source": [
        "# Countour line + values\n"
      ]
    }
  ],
  "metadata": {
    "kernelspec": {
      "display_name": "Python 3.9.13 ('env': venv)",
      "language": "python",
      "name": "python3"
    },
    "language_info": {
      "codemirror_mode": {
        "name": "ipython",
        "version": 3
      },
      "file_extension": ".py",
      "mimetype": "text/x-python",
      "name": "python",
      "nbconvert_exporter": "python",
      "pygments_lexer": "ipython3",
      "version": "3.9.13"
    },
    "orig_nbformat": 4,
    "vscode": {
      "interpreter": {
        "hash": "40df3ce17f7a2be7ee95f14117d7040bea1e206826753b0696b3b0689e40e831"
      }
    },
    "colab": {
      "provenance": [],
      "include_colab_link": true
    }
  },
  "nbformat": 4,
  "nbformat_minor": 0
}